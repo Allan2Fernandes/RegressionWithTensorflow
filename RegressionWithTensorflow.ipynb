{
 "cells": [
  {
   "cell_type": "code",
   "execution_count": 45,
   "id": "6abd77db",
   "metadata": {},
   "outputs": [],
   "source": [
    "import random\n",
    "import matplotlib.pyplot as plt\n",
    "import tensorflow as tf\n",
    "from keras.layers import Input, Dense\n",
    "import numpy as np"
   ]
  },
  {
   "cell_type": "code",
   "execution_count": 46,
   "id": "10660ec2",
   "metadata": {},
   "outputs": [],
   "source": [
    "num_of_labels = 200\n",
    "input_array = [x for x in range(num_of_labels)]"
   ]
  },
  {
   "cell_type": "code",
   "execution_count": 47,
   "id": "1b5b02ad",
   "metadata": {},
   "outputs": [],
   "source": [
    "output_array = [(3*x+50) for x in range(num_of_labels)]"
   ]
  },
  {
   "cell_type": "code",
   "execution_count": 48,
   "id": "de2ff5c0",
   "metadata": {},
   "outputs": [],
   "source": [
    "randomized_level = 20\n",
    "noisy_array = []\n",
    "#Add noise to the output array\n",
    "for number in output_array:\n",
    "    number = number + random.uniform(-randomized_level, randomized_level)\n",
    "    noisy_array.append(number)\n",
    "    pass"
   ]
  },
  {
   "cell_type": "code",
   "execution_count": 49,
   "id": "7a8ae35c",
   "metadata": {},
   "outputs": [
    {
     "data": {
      "image/png": "[encoded data removed]",
      "text/plain": [
       "<Figure size 432x288 with 1 Axes>"
      ]
     },
     "metadata": {
      "needs_background": "light"
     },
     "output_type": "display_data"
    }
   ],
   "source": [
    "plt.plot(input_array[0: 50], output_array[0:50])\n",
    "plt.plot(input_array[0: 50], noisy_array[0:50], 'x')\n",
    "plt.show()"
   ]
  },
  {
   "cell_type": "code",
   "execution_count": 50,
   "id": "6af3a23e",
   "metadata": {},
   "outputs": [
    {
     "name": "stdout",
     "output_type": "stream",
     "text": [
      "Model: \"model_4\"\n",
      "_________________________________________________________________\n",
      " Layer (type)                Output Shape              Param #   \n",
      "=================================================================\n",
      " input_5 (InputLayer)        [(None, 1)]               0         \n",
      "                                                                 \n",
      " dense_4 (Dense)             (None, 1)                 2         \n",
      "                                                                 \n",
      "=================================================================\n",
      "Total params: 2\n",
      "Trainable params: 2\n",
      "Non-trainable params: 0\n",
      "_________________________________________________________________\n"
     ]
    }
   ],
   "source": [
    "input_layer = Input(shape=(1))\n",
    "regression_layer = Dense(units = 1)(input_layer)\n",
    "my_model = tf.keras.Model(inputs = input_layer, outputs=regression_layer)\n",
    "my_model.summary()\n"
   ]
  },
  {
   "cell_type": "code",
   "execution_count": 51,
   "id": "6e508e92",
   "metadata": {},
   "outputs": [
    {
     "name": "stdout",
     "output_type": "stream",
     "text": [
      "Epoch 1/100\n",
      "7/7 [==============================] - 0s 3ms/step - loss: 231.2268 - mae: 231.2268\n",
      "Epoch 2/100\n",
      "7/7 [==============================] - 0s 5ms/step - loss: 224.3818 - mae: 224.3818\n",
      "Epoch 3/100\n",
      "7/7 [==============================] - 0s 4ms/step - loss: 217.4329 - mae: 217.4329\n",
      "Epoch 4/100\n",
      "7/7 [==============================] - 0s 5ms/step - loss: 210.6216 - mae: 210.6216\n",
      "Epoch 5/100\n",
      "7/7 [==============================] - 0s 6ms/step - loss: 203.4466 - mae: 203.4466\n",
      "Epoch 6/100\n",
      "7/7 [==============================] - 0s 6ms/step - loss: 196.2320 - mae: 196.2320\n",
      "Epoch 7/100\n",
      "7/7 [==============================] - 0s 6ms/step - loss: 189.2058 - mae: 189.2058\n",
      "Epoch 8/100\n",
      "7/7 [==============================] - 0s 4ms/step - loss: 182.3267 - mae: 182.3267\n",
      "Epoch 9/100\n",
      "7/7 [==============================] - 0s 5ms/step - loss: 175.2668 - mae: 175.2668\n",
      "Epoch 10/100\n",
      "7/7 [==============================] - 0s 5ms/step - loss: 168.6178 - mae: 168.6178\n",
      "Epoch 11/100\n",
      "7/7 [==============================] - 0s 5ms/step - loss: 161.6149 - mae: 161.6149\n",
      "Epoch 12/100\n",
      "7/7 [==============================] - 0s 6ms/step - loss: 154.6150 - mae: 154.6150\n",
      "Epoch 13/100\n",
      "7/7 [==============================] - 0s 5ms/step - loss: 147.4887 - mae: 147.4887\n",
      "Epoch 14/100\n",
      "7/7 [==============================] - 0s 3ms/step - loss: 140.4511 - mae: 140.4511\n",
      "Epoch 15/100\n",
      "7/7 [==============================] - 0s 3ms/step - loss: 133.3755 - mae: 133.3755\n",
      "Epoch 16/100\n",
      "7/7 [==============================] - 0s 3ms/step - loss: 126.4021 - mae: 126.4021\n",
      "Epoch 17/100\n",
      "7/7 [==============================] - 0s 3ms/step - loss: 119.3919 - mae: 119.3919\n",
      "Epoch 18/100\n",
      "7/7 [==============================] - 0s 4ms/step - loss: 112.6054 - mae: 112.6054\n",
      "Epoch 19/100\n",
      "7/7 [==============================] - 0s 3ms/step - loss: 105.6225 - mae: 105.6225\n",
      "Epoch 20/100\n",
      "7/7 [==============================] - 0s 3ms/step - loss: 98.5185 - mae: 98.5185\n",
      "Epoch 21/100\n",
      "7/7 [==============================] - 0s 3ms/step - loss: 91.6532 - mae: 91.6532\n",
      "Epoch 22/100\n",
      "7/7 [==============================] - 0s 3ms/step - loss: 84.8900 - mae: 84.8900\n",
      "Epoch 23/100\n",
      "7/7 [==============================] - 0s 3ms/step - loss: 77.9516 - mae: 77.9516\n",
      "Epoch 24/100\n",
      "7/7 [==============================] - 0s 3ms/step - loss: 71.1169 - mae: 71.1169\n",
      "Epoch 25/100\n",
      "7/7 [==============================] - 0s 3ms/step - loss: 64.3621 - mae: 64.3621\n",
      "Epoch 26/100\n",
      "7/7 [==============================] - 0s 3ms/step - loss: 57.5374 - mae: 57.5374\n",
      "Epoch 27/100\n",
      "7/7 [==============================] - 0s 3ms/step - loss: 50.5826 - mae: 50.5826\n",
      "Epoch 28/100\n",
      "7/7 [==============================] - 0s 3ms/step - loss: 43.4749 - mae: 43.4749\n",
      "Epoch 29/100\n",
      "7/7 [==============================] - 0s 3ms/step - loss: 36.5591 - mae: 36.5591\n",
      "Epoch 30/100\n",
      "7/7 [==============================] - 0s 3ms/step - loss: 29.9213 - mae: 29.9213\n",
      "Epoch 31/100\n",
      "7/7 [==============================] - 0s 3ms/step - loss: 25.2795 - mae: 25.2795\n",
      "Epoch 32/100\n",
      "7/7 [==============================] - 0s 3ms/step - loss: 22.9804 - mae: 22.9804\n",
      "Epoch 33/100\n",
      "7/7 [==============================] - 0s 3ms/step - loss: 22.1631 - mae: 22.1631\n",
      "Epoch 34/100\n",
      "7/7 [==============================] - 0s 3ms/step - loss: 21.9399 - mae: 21.9399\n",
      "Epoch 35/100\n",
      "7/7 [==============================] - 0s 3ms/step - loss: 21.9027 - mae: 21.9027\n",
      "Epoch 36/100\n",
      "7/7 [==============================] - 0s 3ms/step - loss: 21.8827 - mae: 21.8827\n",
      "Epoch 37/100\n",
      "7/7 [==============================] - 0s 3ms/step - loss: 21.8725 - mae: 21.8725\n",
      "Epoch 38/100\n",
      "7/7 [==============================] - 0s 3ms/step - loss: 21.8834 - mae: 21.8834\n",
      "Epoch 39/100\n",
      "7/7 [==============================] - 0s 3ms/step - loss: 21.8951 - mae: 21.8951\n",
      "Epoch 40/100\n",
      "7/7 [==============================] - 0s 3ms/step - loss: 21.8617 - mae: 21.8617\n",
      "Epoch 41/100\n",
      "7/7 [==============================] - 0s 3ms/step - loss: 21.8766 - mae: 21.8766\n",
      "Epoch 42/100\n",
      "7/7 [==============================] - 0s 3ms/step - loss: 21.8596 - mae: 21.8596\n",
      "Epoch 43/100\n",
      "7/7 [==============================] - 0s 3ms/step - loss: 21.8659 - mae: 21.8659\n",
      "Epoch 44/100\n",
      "7/7 [==============================] - 0s 3ms/step - loss: 21.8538 - mae: 21.8538\n",
      "Epoch 45/100\n",
      "7/7 [==============================] - 0s 3ms/step - loss: 21.8955 - mae: 21.8955\n",
      "Epoch 46/100\n",
      "7/7 [==============================] - 0s 3ms/step - loss: 21.8734 - mae: 21.8734\n",
      "Epoch 47/100\n",
      "7/7 [==============================] - 0s 3ms/step - loss: 21.8573 - mae: 21.8573\n",
      "Epoch 48/100\n",
      "7/7 [==============================] - 0s 3ms/step - loss: 21.8621 - mae: 21.8621\n",
      "Epoch 49/100\n",
      "7/7 [==============================] - 0s 3ms/step - loss: 21.8839 - mae: 21.8839\n",
      "Epoch 50/100\n",
      "7/7 [==============================] - 0s 3ms/step - loss: 21.8590 - mae: 21.8590\n",
      "Epoch 51/100\n",
      "7/7 [==============================] - 0s 3ms/step - loss: 21.8632 - mae: 21.8632\n",
      "Epoch 52/100\n",
      "7/7 [==============================] - 0s 3ms/step - loss: 21.8581 - mae: 21.8581\n",
      "Epoch 53/100\n",
      "7/7 [==============================] - 0s 3ms/step - loss: 21.8559 - mae: 21.8559\n",
      "Epoch 54/100\n",
      "7/7 [==============================] - 0s 3ms/step - loss: 21.8681 - mae: 21.8681\n",
      "Epoch 55/100\n",
      "7/7 [==============================] - 0s 3ms/step - loss: 21.8548 - mae: 21.8548\n",
      "Epoch 56/100\n",
      "7/7 [==============================] - 0s 3ms/step - loss: 21.8530 - mae: 21.8530\n",
      "Epoch 57/100\n",
      "7/7 [==============================] - 0s 3ms/step - loss: 21.8897 - mae: 21.8897\n",
      "Epoch 58/100\n",
      "7/7 [==============================] - 0s 3ms/step - loss: 21.8628 - mae: 21.8628\n",
      "Epoch 59/100\n",
      "7/7 [==============================] - 0s 3ms/step - loss: 21.8567 - mae: 21.8567\n",
      "Epoch 60/100\n",
      "7/7 [==============================] - 0s 3ms/step - loss: 21.8710 - mae: 21.8710\n",
      "Epoch 61/100\n",
      "7/7 [==============================] - 0s 3ms/step - loss: 21.8613 - mae: 21.8613\n",
      "Epoch 62/100\n",
      "7/7 [==============================] - 0s 3ms/step - loss: 21.8770 - mae: 21.8770\n",
      "Epoch 63/100\n",
      "7/7 [==============================] - 0s 3ms/step - loss: 21.8549 - mae: 21.8549\n",
      "Epoch 64/100\n",
      "7/7 [==============================] - 0s 3ms/step - loss: 21.8566 - mae: 21.8566\n",
      "Epoch 65/100\n",
      "7/7 [==============================] - 0s 3ms/step - loss: 21.8631 - mae: 21.8631\n",
      "Epoch 66/100\n",
      "7/7 [==============================] - 0s 3ms/step - loss: 21.8641 - mae: 21.8641\n",
      "Epoch 67/100\n",
      "7/7 [==============================] - 0s 3ms/step - loss: 21.8796 - mae: 21.8796\n",
      "Epoch 68/100\n",
      "7/7 [==============================] - 0s 3ms/step - loss: 21.8660 - mae: 21.8660\n",
      "Epoch 69/100\n",
      "7/7 [==============================] - 0s 3ms/step - loss: 21.8920 - mae: 21.8920\n",
      "Epoch 70/100\n",
      "7/7 [==============================] - 0s 3ms/step - loss: 21.8803 - mae: 21.8803\n",
      "Epoch 71/100\n",
      "7/7 [==============================] - 0s 3ms/step - loss: 21.8568 - mae: 21.8568\n",
      "Epoch 72/100\n",
      "7/7 [==============================] - 0s 3ms/step - loss: 21.8590 - mae: 21.8590\n",
      "Epoch 73/100\n",
      "7/7 [==============================] - 0s 3ms/step - loss: 21.8587 - mae: 21.8587\n",
      "Epoch 74/100\n",
      "7/7 [==============================] - 0s 3ms/step - loss: 21.8759 - mae: 21.8759\n",
      "Epoch 75/100\n",
      "7/7 [==============================] - 0s 3ms/step - loss: 21.8672 - mae: 21.8672\n",
      "Epoch 76/100\n",
      "7/7 [==============================] - 0s 3ms/step - loss: 21.8571 - mae: 21.8571\n",
      "Epoch 77/100\n",
      "7/7 [==============================] - 0s 3ms/step - loss: 21.8733 - mae: 21.8733\n",
      "Epoch 78/100\n",
      "7/7 [==============================] - 0s 2ms/step - loss: 21.8696 - mae: 21.8696\n",
      "Epoch 79/100\n",
      "7/7 [==============================] - 0s 3ms/step - loss: 21.8566 - mae: 21.8566\n",
      "Epoch 80/100\n",
      "7/7 [==============================] - 0s 3ms/step - loss: 21.8717 - mae: 21.8717\n",
      "Epoch 81/100\n",
      "7/7 [==============================] - 0s 3ms/step - loss: 21.8504 - mae: 21.8504\n",
      "Epoch 82/100\n",
      "7/7 [==============================] - 0s 3ms/step - loss: 21.8572 - mae: 21.8572\n",
      "Epoch 83/100\n",
      "7/7 [==============================] - 0s 3ms/step - loss: 21.8568 - mae: 21.8568\n",
      "Epoch 84/100\n",
      "7/7 [==============================] - 0s 3ms/step - loss: 21.8519 - mae: 21.8519\n",
      "Epoch 85/100\n",
      "7/7 [==============================] - 0s 3ms/step - loss: 21.8479 - mae: 21.8479\n",
      "Epoch 86/100\n",
      "7/7 [==============================] - 0s 3ms/step - loss: 21.8587 - mae: 21.8587\n",
      "Epoch 87/100\n",
      "7/7 [==============================] - 0s 3ms/step - loss: 21.9062 - mae: 21.9062\n",
      "Epoch 88/100\n",
      "7/7 [==============================] - 0s 3ms/step - loss: 21.8656 - mae: 21.8656\n",
      "Epoch 89/100\n",
      "7/7 [==============================] - 0s 3ms/step - loss: 21.8706 - mae: 21.8706\n",
      "Epoch 90/100\n",
      "7/7 [==============================] - 0s 3ms/step - loss: 21.8616 - mae: 21.8616\n",
      "Epoch 91/100\n",
      "7/7 [==============================] - 0s 3ms/step - loss: 21.8662 - mae: 21.8662\n",
      "Epoch 92/100\n",
      "7/7 [==============================] - 0s 3ms/step - loss: 21.8662 - mae: 21.8662\n",
      "Epoch 93/100\n",
      "7/7 [==============================] - 0s 3ms/step - loss: 21.8738 - mae: 21.8738\n",
      "Epoch 94/100\n",
      "7/7 [==============================] - 0s 3ms/step - loss: 21.8688 - mae: 21.8688\n",
      "Epoch 95/100\n",
      "7/7 [==============================] - 0s 4ms/step - loss: 21.8501 - mae: 21.8501\n",
      "Epoch 96/100\n",
      "7/7 [==============================] - 0s 7ms/step - loss: 21.8512 - mae: 21.8512\n",
      "Epoch 97/100\n",
      "7/7 [==============================] - 0s 6ms/step - loss: 21.8741 - mae: 21.8741\n",
      "Epoch 98/100\n",
      "7/7 [==============================] - 0s 7ms/step - loss: 21.8637 - mae: 21.8637\n",
      "Epoch 99/100\n",
      "7/7 [==============================] - 0s 7ms/step - loss: 21.8533 - mae: 21.8533\n",
      "Epoch 100/100\n",
      "7/7 [==============================] - 0s 3ms/step - loss: 21.8683 - mae: 21.8683\n"
     ]
    },
    {
     "data": {
      "text/plain": [
       "<keras.callbacks.History at 0x1a7edb78fa0>"
      ]
     },
     "execution_count": 51,
     "metadata": {},
     "output_type": "execute_result"
    }
   ],
   "source": [
    "my_model.compile(optimizer = tf.keras.optimizers.SGD(learning_rate=0.0001), metrics = ['mae'], loss='mae')\n",
    "input_array = tf.constant(input_array, dtype = 'float32')\n",
    "noisy_array = tf.constant(noisy_array, dtype = 'float32')\n",
    "my_model.fit(x = input_array, y = noisy_array, epochs = 100)"
   ]
  },
  {
   "cell_type": "code",
   "execution_count": 52,
   "id": "1c6fe5d2",
   "metadata": {},
   "outputs": [
    {
     "name": "stdout",
     "output_type": "stream",
     "text": [
      "tf.Tensor([[83.91161]], shape=(1, 1), dtype=float32)\n"
     ]
    }
   ],
   "source": [
    "number = 25\n",
    "\n",
    "test_input = tf.Variable(number, dtype=float)\n",
    "test_input = tf.expand_dims(test_input, axis=0)\n",
    "prediction = my_model(test_input)\n",
    "print(prediction)"
   ]
  },
  {
   "cell_type": "code",
   "execution_count": 53,
   "id": "5a5aeacd",
   "metadata": {},
   "outputs": [
    {
     "name": "stdout",
     "output_type": "stream",
     "text": [
      "(200, 1)\n"
     ]
    }
   ],
   "source": [
    "predictions = [x for x in range(num_of_labels)]\n",
    "predictions = tf.Variable(predictions, dtype='float32')\n",
    "predictions = tf.expand_dims(predictions, axis = -1)\n",
    "print(predictions.shape)"
   ]
  },
  {
   "cell_type": "code",
   "execution_count": 54,
   "id": "8b1d4b0c",
   "metadata": {},
   "outputs": [],
   "source": [
    "predictions = my_model(predictions) "
   ]
  },
  {
   "cell_type": "code",
   "execution_count": 55,
   "id": "d43615bc",
   "metadata": {},
   "outputs": [],
   "source": [
    "predictions = np.array(predictions)"
   ]
  },
  {
   "cell_type": "code",
   "execution_count": 56,
   "id": "86a653f7",
   "metadata": {},
   "outputs": [
    {
     "data": {
      "image/png": "[encoded data removed]",
      "text/plain": [
       "<Figure size 432x288 with 1 Axes>"
      ]
     },
     "metadata": {
      "needs_background": "light"
     },
     "output_type": "display_data"
    }
   ],
   "source": [
    "plt.plot(predictions)\n",
    "plt.plot(noisy_array)\n",
    "plt.show()"
   ]
  },
  {
   "cell_type": "code",
   "execution_count": null,
   "id": "dc7f6f32",
   "metadata": {},
   "outputs": [],
   "source": []
  }
 ],
 "metadata": {
  "kernelspec": {
   "display_name": "Python 3.10.4 ('tf2.9')",
   "language": "python",
   "name": "python3"
  },
  "language_info": {
   "codemirror_mode": {
    "name": "ipython",
    "version": 3
   },
   "file_extension": ".py",
   "mimetype": "text/x-python",
   "name": "python",
   "nbconvert_exporter": "python",
   "pygments_lexer": "ipython3",
   "version": "3.10.4"
  },
  "vscode": {
   "interpreter": {
    "hash": "fb374c58423944c16106e0450a0279ca04bf4445de983033415091f57a888256"
   }
  }
 },
 "nbformat": 4,
 "nbformat_minor": 5
}
