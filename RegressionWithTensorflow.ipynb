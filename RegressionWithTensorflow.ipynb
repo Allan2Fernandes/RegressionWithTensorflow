{
 "cells": [
  {
   "cell_type": "code",
   "execution_count": 20,
   "id": "6abd77db",
   "metadata": {},
   "outputs": [],
   "source": [
    "import random\n",
    "import matplotlib.pyplot as plt\n",
    "import tensorflow as tf\n",
    "from keras.layers import Input, Dense\n",
    "import numpy as np"
   ]
  },
  {
   "cell_type": "code",
   "execution_count": 21,
   "id": "10660ec2",
   "metadata": {},
   "outputs": [],
   "source": [
    "num_of_labels = 500\n",
    "input_array = [x for x in range(num_of_labels)]"
   ]
  },
  {
   "cell_type": "code",
   "execution_count": 22,
   "id": "1b5b02ad",
   "metadata": {},
   "outputs": [],
   "source": [
    "output_array = [(3*x+50) for x in range(num_of_labels)]"
   ]
  },
  {
   "cell_type": "code",
   "execution_count": 23,
   "id": "de2ff5c0",
   "metadata": {},
   "outputs": [],
   "source": [
    "randomized_level = 20\n",
    "noisy_array = []\n",
    "#Add noise to the output array\n",
    "for number in output_array:\n",
    "    number = number + random.uniform(-randomized_level, randomized_level)\n",
    "    noisy_array.append(number)\n",
    "    pass"
   ]
  },
  {
   "cell_type": "code",
   "execution_count": 24,
   "id": "7a8ae35c",
   "metadata": {},
   "outputs": [
    {
     "data": {
      "image/png": "[encoded data removed]",
      "text/plain": [
       "<Figure size 432x288 with 1 Axes>"
      ]
     },
     "metadata": {
      "needs_background": "light"
     },
     "output_type": "display_data"
    }
   ],
   "source": [
    "plt.plot(input_array[0: 50], output_array[0:50])\n",
    "plt.plot(input_array[0: 50], noisy_array[0:50], 'x')\n",
    "plt.show()"
   ]
  },
  {
   "cell_type": "code",
   "execution_count": 25,
   "id": "6af3a23e",
   "metadata": {},
   "outputs": [
    {
     "name": "stdout",
     "output_type": "stream",
     "text": [
      "Model: \"model_1\"\n",
      "_________________________________________________________________\n",
      " Layer (type)                Output Shape              Param #   \n",
      "=================================================================\n",
      " input_2 (InputLayer)        [(None, 1)]               0         \n",
      "                                                                 \n",
      " dense_1 (Dense)             (None, 1)                 2         \n",
      "                                                                 \n",
      "=================================================================\n",
      "Total params: 2\n",
      "Trainable params: 2\n",
      "Non-trainable params: 0\n",
      "_________________________________________________________________\n"
     ]
    }
   ],
   "source": [
    "input_layer = Input(shape=(1))\n",
    "regression_layer = Dense(units = 1)(input_layer)\n",
    "my_model = tf.keras.Model(inputs = input_layer, outputs=regression_layer)\n",
    "my_model.summary()\n"
   ]
  },
  {
   "cell_type": "code",
   "execution_count": 26,
   "id": "6e508e92",
   "metadata": {},
   "outputs": [
    {
     "name": "stdout",
     "output_type": "stream",
     "text": [
      "Epoch 1/40\n",
      "16/16 [==============================] - 0s 4ms/step - loss: 448.1180 - mae: 448.1180\n",
      "Epoch 2/40\n",
      "16/16 [==============================] - 0s 4ms/step - loss: 348.8181 - mae: 348.8181\n",
      "Epoch 3/40\n",
      "16/16 [==============================] - 0s 3ms/step - loss: 249.6954 - mae: 249.6954\n",
      "Epoch 4/40\n",
      "16/16 [==============================] - 0s 3ms/step - loss: 150.0637 - mae: 150.0637\n",
      "Epoch 5/40\n",
      "16/16 [==============================] - 0s 3ms/step - loss: 52.6839 - mae: 52.6839\n",
      "Epoch 6/40\n",
      "16/16 [==============================] - 0s 3ms/step - loss: 21.7301 - mae: 21.7301\n",
      "Epoch 7/40\n",
      "16/16 [==============================] - 0s 3ms/step - loss: 21.7193 - mae: 21.7193\n",
      "Epoch 8/40\n",
      "16/16 [==============================] - 0s 3ms/step - loss: 21.7629 - mae: 21.7629\n",
      "Epoch 9/40\n",
      "16/16 [==============================] - 0s 3ms/step - loss: 21.7235 - mae: 21.7235\n",
      "Epoch 10/40\n",
      "16/16 [==============================] - 0s 3ms/step - loss: 21.7044 - mae: 21.7044\n",
      "Epoch 11/40\n",
      "16/16 [==============================] - 0s 3ms/step - loss: 21.7815 - mae: 21.7815\n",
      "Epoch 12/40\n",
      "16/16 [==============================] - 0s 3ms/step - loss: 21.7215 - mae: 21.7215\n",
      "Epoch 13/40\n",
      "16/16 [==============================] - 0s 3ms/step - loss: 21.8338 - mae: 21.8338\n",
      "Epoch 14/40\n",
      "16/16 [==============================] - 0s 3ms/step - loss: 21.9482 - mae: 21.9482\n",
      "Epoch 15/40\n",
      "16/16 [==============================] - 0s 3ms/step - loss: 21.7721 - mae: 21.7721\n",
      "Epoch 16/40\n",
      "16/16 [==============================] - 0s 3ms/step - loss: 21.7392 - mae: 21.7392\n",
      "Epoch 17/40\n",
      "16/16 [==============================] - 0s 3ms/step - loss: 21.6473 - mae: 21.6473\n",
      "Epoch 18/40\n",
      "16/16 [==============================] - 0s 3ms/step - loss: 21.8066 - mae: 21.8066\n",
      "Epoch 19/40\n",
      "16/16 [==============================] - 0s 3ms/step - loss: 21.7896 - mae: 21.7896\n",
      "Epoch 20/40\n",
      "16/16 [==============================] - 0s 3ms/step - loss: 21.8043 - mae: 21.8043\n",
      "Epoch 21/40\n",
      "16/16 [==============================] - 0s 3ms/step - loss: 21.8064 - mae: 21.8064\n",
      "Epoch 22/40\n",
      "16/16 [==============================] - 0s 3ms/step - loss: 21.7200 - mae: 21.7200\n",
      "Epoch 23/40\n",
      "16/16 [==============================] - 0s 3ms/step - loss: 21.6343 - mae: 21.6343\n",
      "Epoch 24/40\n",
      "16/16 [==============================] - 0s 3ms/step - loss: 21.8161 - mae: 21.8161\n",
      "Epoch 25/40\n",
      "16/16 [==============================] - 0s 3ms/step - loss: 21.7577 - mae: 21.7577\n",
      "Epoch 26/40\n",
      "16/16 [==============================] - 0s 3ms/step - loss: 21.7950 - mae: 21.7950\n",
      "Epoch 27/40\n",
      "16/16 [==============================] - 0s 3ms/step - loss: 21.8342 - mae: 21.8342\n",
      "Epoch 28/40\n",
      "16/16 [==============================] - 0s 3ms/step - loss: 21.7210 - mae: 21.7210\n",
      "Epoch 29/40\n",
      "16/16 [==============================] - 0s 3ms/step - loss: 21.6399 - mae: 21.6399\n",
      "Epoch 30/40\n",
      "16/16 [==============================] - 0s 3ms/step - loss: 21.8313 - mae: 21.8313\n",
      "Epoch 31/40\n",
      "16/16 [==============================] - 0s 3ms/step - loss: 21.7910 - mae: 21.7910\n",
      "Epoch 32/40\n",
      "16/16 [==============================] - 0s 3ms/step - loss: 21.7386 - mae: 21.7386\n",
      "Epoch 33/40\n",
      "16/16 [==============================] - 0s 3ms/step - loss: 21.8047 - mae: 21.8047\n",
      "Epoch 34/40\n",
      "16/16 [==============================] - 0s 3ms/step - loss: 21.8204 - mae: 21.8204\n",
      "Epoch 35/40\n",
      "16/16 [==============================] - 0s 3ms/step - loss: 21.7220 - mae: 21.7220\n",
      "Epoch 36/40\n",
      "16/16 [==============================] - 0s 3ms/step - loss: 21.6910 - mae: 21.6910\n",
      "Epoch 37/40\n",
      "16/16 [==============================] - 0s 3ms/step - loss: 21.8113 - mae: 21.8113\n",
      "Epoch 38/40\n",
      "16/16 [==============================] - 0s 3ms/step - loss: 21.7548 - mae: 21.7548\n",
      "Epoch 39/40\n",
      "16/16 [==============================] - 0s 3ms/step - loss: 21.8195 - mae: 21.8195\n",
      "Epoch 40/40\n",
      "16/16 [==============================] - 0s 3ms/step - loss: 21.7509 - mae: 21.7509\n"
     ]
    },
    {
     "data": {
      "text/plain": [
       "<keras.callbacks.History at 0x1796227afe0>"
      ]
     },
     "execution_count": 26,
     "metadata": {},
     "output_type": "execute_result"
    }
   ],
   "source": [
    "my_model.compile(optimizer = tf.keras.optimizers.SGD(learning_rate=0.0001), metrics = ['mae'], loss='mae')\n",
    "input_array = tf.constant(input_array, dtype = 'float32')\n",
    "noisy_array = tf.constant(noisy_array, dtype = 'float32')\n",
    "my_model.fit(x = input_array, y = noisy_array, epochs = 40)"
   ]
  },
  {
   "cell_type": "code",
   "execution_count": 27,
   "id": "1c6fe5d2",
   "metadata": {},
   "outputs": [],
   "source": [
    "number = 25\n",
    "\n",
    "test_input = tf.Variable(number, dtype=float)\n",
    "test_input = tf.expand_dims(test_input, axis=0)"
   ]
  },
  {
   "cell_type": "code",
   "execution_count": 28,
   "id": "0e06b4a2",
   "metadata": {},
   "outputs": [],
   "source": [
    "prediction = my_model(test_input)"
   ]
  },
  {
   "cell_type": "code",
   "execution_count": 29,
   "id": "9219512e",
   "metadata": {},
   "outputs": [
    {
     "name": "stdout",
     "output_type": "stream",
     "text": [
      "tf.Tensor([[78.45251]], shape=(1, 1), dtype=float32)\n"
     ]
    }
   ],
   "source": [
    "print(prediction)"
   ]
  },
  {
   "cell_type": "code",
   "execution_count": 30,
   "id": "88baeb93",
   "metadata": {},
   "outputs": [],
   "source": [
    "layers = my_model.layers"
   ]
  },
  {
   "cell_type": "code",
   "execution_count": 31,
   "id": "d3a82b8d",
   "metadata": {},
   "outputs": [
    {
     "name": "stdout",
     "output_type": "stream",
     "text": [
      "[<keras.engine.input_layer.InputLayer object at 0x0000017941AF6740>, <keras.layers.core.dense.Dense object at 0x000001796218FCA0>]\n"
     ]
    }
   ],
   "source": [
    "print(layers)"
   ]
  },
  {
   "cell_type": "code",
   "execution_count": 32,
   "id": "5a5aeacd",
   "metadata": {},
   "outputs": [
    {
     "name": "stdout",
     "output_type": "stream",
     "text": [
      "(500, 1)\n"
     ]
    }
   ],
   "source": [
    "predictions = [x for x in range(num_of_labels)]\n",
    "predictions = tf.Variable(predictions, dtype='float32')\n",
    "predictions = tf.expand_dims(predictions, axis = -1)\n",
    "print(predictions.shape)"
   ]
  },
  {
   "cell_type": "code",
   "execution_count": 33,
   "id": "8b1d4b0c",
   "metadata": {},
   "outputs": [],
   "source": [
    "predictions = my_model(predictions) "
   ]
  },
  {
   "cell_type": "code",
   "execution_count": 34,
   "id": "d43615bc",
   "metadata": {},
   "outputs": [],
   "source": [
    "predictions = np.array(predictions)"
   ]
  },
  {
   "cell_type": "code",
   "execution_count": 35,
   "id": "86a653f7",
   "metadata": {},
   "outputs": [
    {
     "data": {
      "image/png": "[encoded data removed]",
      "text/plain": [
       "<Figure size 432x288 with 1 Axes>"
      ]
     },
     "metadata": {
      "needs_background": "light"
     },
     "output_type": "display_data"
    }
   ],
   "source": [
    "plt.plot(predictions)\n",
    "plt.plot(noisy_array)\n",
    "plt.show()"
   ]
  },
  {
   "cell_type": "code",
   "execution_count": null,
   "id": "dc7f6f32",
   "metadata": {},
   "outputs": [],
   "source": []
  }
 ],
 "metadata": {
  "kernelspec": {
   "display_name": "Python 3.10.4 ('tf2.9')",
   "language": "python",
   "name": "python3"
  },
  "language_info": {
   "codemirror_mode": {
    "name": "ipython",
    "version": 3
   },
   "file_extension": ".py",
   "mimetype": "text/x-python",
   "name": "python",
   "nbconvert_exporter": "python",
   "pygments_lexer": "ipython3",
   "version": "3.10.4"
  },
  "vscode": {
   "interpreter": {
    "hash": "fb374c58423944c16106e0450a0279ca04bf4445de983033415091f57a888256"
   }
  }
 },
 "nbformat": 4,
 "nbformat_minor": 5
}
