{
 "cells": [
  {
   "cell_type": "code",
   "execution_count": 268,
   "id": "6abd77db",
   "metadata": {},
   "outputs": [],
   "source": [
    "import random\n",
    "import matplotlib.pyplot as plt\n",
    "import tensorflow as tf\n",
    "from keras.layers import Input, Dense\n",
    "import numpy as np"
   ]
  },
  {
   "cell_type": "code",
   "execution_count": 269,
   "id": "10660ec2",
   "metadata": {},
   "outputs": [],
   "source": [
    "num_of_labels = 500\n",
    "input_array = [x for x in range(num_of_labels)]"
   ]
  },
  {
   "cell_type": "code",
   "execution_count": 270,
   "id": "1b5b02ad",
   "metadata": {},
   "outputs": [],
   "source": [
    "output_array = [(3*x+50) for x in range(num_of_labels)]"
   ]
  },
  {
   "cell_type": "code",
   "execution_count": 271,
   "id": "de2ff5c0",
   "metadata": {},
   "outputs": [],
   "source": [
    "randomized_level = 20\n",
    "noisy_array = []\n",
    "#Add noise to the output array\n",
    "for number in output_array:\n",
    "    number = number + random.uniform(-randomized_level, randomized_level)\n",
    "    noisy_array.append(number)\n",
    "    pass"
   ]
  },
  {
   "cell_type": "code",
   "execution_count": 272,
   "id": "7a8ae35c",
   "metadata": {},
   "outputs": [
    {
     "data": {
      "image/png": "[encoded data removed]",
      "text/plain": [
       "<Figure size 432x288 with 1 Axes>"
      ]
     },
     "metadata": {
      "needs_background": "light"
     },
     "output_type": "display_data"
    }
   ],
   "source": [
    "plt.plot(input_array, output_array)\n",
    "plt.plot(input_array, noisy_array, 'x')\n",
    "plt.show()"
   ]
  },
  {
   "cell_type": "code",
   "execution_count": 273,
   "id": "6af3a23e",
   "metadata": {},
   "outputs": [
    {
     "name": "stdout",
     "output_type": "stream",
     "text": [
      "Model: \"model_15\"\n",
      "_________________________________________________________________\n",
      " Layer (type)                Output Shape              Param #   \n",
      "=================================================================\n",
      " input_16 (InputLayer)       [(None, 1)]               0         \n",
      "                                                                 \n",
      " dense_15 (Dense)            (None, 1)                 2         \n",
      "                                                                 \n",
      "=================================================================\n",
      "Total params: 2\n",
      "Trainable params: 2\n",
      "Non-trainable params: 0\n",
      "_________________________________________________________________\n"
     ]
    }
   ],
   "source": [
    "input_layer = Input(shape=(1))\n",
    "regression_layer = Dense(units = 1)(input_layer)\n",
    "my_model = tf.keras.Model(inputs = input_layer, outputs=regression_layer)\n",
    "my_model.summary()\n"
   ]
  },
  {
   "cell_type": "code",
   "execution_count": 274,
   "id": "6e508e92",
   "metadata": {},
   "outputs": [
    {
     "name": "stdout",
     "output_type": "stream",
     "text": [
      "Epoch 1/40\n",
      "16/16 [==============================] - 0s 3ms/step - loss: 1108.0746 - mae: 1108.0746\n",
      "Epoch 2/40\n",
      "16/16 [==============================] - 0s 4ms/step - loss: 1008.1088 - mae: 1008.1088\n",
      "Epoch 3/40\n",
      "16/16 [==============================] - 0s 3ms/step - loss: 908.8278 - mae: 908.8278\n",
      "Epoch 4/40\n",
      "16/16 [==============================] - 0s 4ms/step - loss: 808.7083 - mae: 808.7083\n",
      "Epoch 5/40\n",
      "16/16 [==============================] - 0s 4ms/step - loss: 709.4319 - mae: 709.4319\n",
      "Epoch 6/40\n",
      "16/16 [==============================] - 0s 4ms/step - loss: 610.3275 - mae: 610.3275\n",
      "Epoch 7/40\n",
      "16/16 [==============================] - 0s 4ms/step - loss: 510.5414 - mae: 510.5414\n",
      "Epoch 8/40\n",
      "16/16 [==============================] - 0s 6ms/step - loss: 410.8073 - mae: 410.8073\n",
      "Epoch 9/40\n",
      "16/16 [==============================] - 0s 5ms/step - loss: 311.2471 - mae: 311.2471\n",
      "Epoch 10/40\n",
      "16/16 [==============================] - 0s 4ms/step - loss: 211.7764 - mae: 211.7764\n",
      "Epoch 11/40\n",
      "16/16 [==============================] - 0s 4ms/step - loss: 111.9276 - mae: 111.9276\n",
      "Epoch 12/40\n",
      "16/16 [==============================] - 0s 4ms/step - loss: 29.3289 - mae: 29.3289\n",
      "Epoch 13/40\n",
      "16/16 [==============================] - 0s 5ms/step - loss: 21.7683 - mae: 21.7683\n",
      "Epoch 14/40\n",
      "16/16 [==============================] - 0s 4ms/step - loss: 21.6332 - mae: 21.6332\n",
      "Epoch 15/40\n",
      "16/16 [==============================] - 0s 4ms/step - loss: 21.5970 - mae: 21.5970\n",
      "Epoch 16/40\n",
      "16/16 [==============================] - 0s 4ms/step - loss: 21.5722 - mae: 21.5722\n",
      "Epoch 17/40\n",
      "16/16 [==============================] - 0s 4ms/step - loss: 21.4079 - mae: 21.4079\n",
      "Epoch 18/40\n",
      "16/16 [==============================] - 0s 5ms/step - loss: 21.5130 - mae: 21.5130\n",
      "Epoch 19/40\n",
      "16/16 [==============================] - 0s 3ms/step - loss: 21.5185 - mae: 21.5185\n",
      "Epoch 20/40\n",
      "16/16 [==============================] - 0s 3ms/step - loss: 21.5640 - mae: 21.5640\n",
      "Epoch 21/40\n",
      "16/16 [==============================] - 0s 3ms/step - loss: 21.5624 - mae: 21.5624\n",
      "Epoch 22/40\n",
      "16/16 [==============================] - 0s 3ms/step - loss: 21.6488 - mae: 21.6488\n",
      "Epoch 23/40\n",
      "16/16 [==============================] - 0s 3ms/step - loss: 21.6019 - mae: 21.6019\n",
      "Epoch 24/40\n",
      "16/16 [==============================] - 0s 3ms/step - loss: 21.6169 - mae: 21.6169\n",
      "Epoch 25/40\n",
      "16/16 [==============================] - 0s 3ms/step - loss: 21.5705 - mae: 21.5705\n",
      "Epoch 26/40\n",
      "16/16 [==============================] - 0s 5ms/step - loss: 21.5555 - mae: 21.5555\n",
      "Epoch 27/40\n",
      "16/16 [==============================] - 0s 4ms/step - loss: 21.5970 - mae: 21.5970\n",
      "Epoch 28/40\n",
      "16/16 [==============================] - 0s 3ms/step - loss: 21.5933 - mae: 21.5933\n",
      "Epoch 29/40\n",
      "16/16 [==============================] - 0s 3ms/step - loss: 21.4955 - mae: 21.4955\n",
      "Epoch 30/40\n",
      "16/16 [==============================] - 0s 3ms/step - loss: 21.5531 - mae: 21.5531\n",
      "Epoch 31/40\n",
      "16/16 [==============================] - 0s 3ms/step - loss: 21.5540 - mae: 21.5540\n",
      "Epoch 32/40\n",
      "16/16 [==============================] - 0s 3ms/step - loss: 21.6065 - mae: 21.6065\n",
      "Epoch 33/40\n",
      "16/16 [==============================] - 0s 3ms/step - loss: 21.5188 - mae: 21.5188\n",
      "Epoch 34/40\n",
      "16/16 [==============================] - 0s 3ms/step - loss: 21.6132 - mae: 21.6132\n",
      "Epoch 35/40\n",
      "16/16 [==============================] - 0s 3ms/step - loss: 21.5403 - mae: 21.5403\n",
      "Epoch 36/40\n",
      "16/16 [==============================] - 0s 3ms/step - loss: 21.5205 - mae: 21.5205\n",
      "Epoch 37/40\n",
      "16/16 [==============================] - 0s 3ms/step - loss: 21.6885 - mae: 21.6885\n",
      "Epoch 38/40\n",
      "16/16 [==============================] - 0s 3ms/step - loss: 21.5597 - mae: 21.5597\n",
      "Epoch 39/40\n",
      "16/16 [==============================] - 0s 3ms/step - loss: 21.6219 - mae: 21.6219\n",
      "Epoch 40/40\n",
      "16/16 [==============================] - 0s 3ms/step - loss: 21.6161 - mae: 21.6161\n"
     ]
    },
    {
     "data": {
      "text/plain": [
       "<keras.callbacks.History at 0x1ea70562800>"
      ]
     },
     "execution_count": 274,
     "metadata": {},
     "output_type": "execute_result"
    }
   ],
   "source": [
    "my_model.compile(optimizer = tf.keras.optimizers.SGD(learning_rate=0.0001), metrics = ['mae'], loss='mae')\n",
    "input_array = tf.constant(input_array, dtype = 'float32')\n",
    "noisy_array = tf.constant(noisy_array, dtype = 'float32')\n",
    "my_model.fit(x = input_array, y = noisy_array, epochs = 40)"
   ]
  },
  {
   "cell_type": "code",
   "execution_count": 275,
   "id": "1c6fe5d2",
   "metadata": {},
   "outputs": [],
   "source": [
    "number = 25\n",
    "\n",
    "test_input = tf.Variable(number, dtype=float)\n",
    "test_input = tf.expand_dims(test_input, axis=0)"
   ]
  },
  {
   "cell_type": "code",
   "execution_count": 276,
   "id": "0e06b4a2",
   "metadata": {},
   "outputs": [],
   "source": [
    "prediction = my_model(test_input)"
   ]
  },
  {
   "cell_type": "code",
   "execution_count": 277,
   "id": "9219512e",
   "metadata": {},
   "outputs": [
    {
     "name": "stdout",
     "output_type": "stream",
     "text": [
      "tf.Tensor([[78.66971]], shape=(1, 1), dtype=float32)\n"
     ]
    }
   ],
   "source": [
    "print(prediction)"
   ]
  },
  {
   "cell_type": "code",
   "execution_count": 278,
   "id": "88baeb93",
   "metadata": {},
   "outputs": [],
   "source": [
    "layers = my_model.layers"
   ]
  },
  {
   "cell_type": "code",
   "execution_count": 279,
   "id": "d3a82b8d",
   "metadata": {},
   "outputs": [
    {
     "name": "stdout",
     "output_type": "stream",
     "text": [
      "[<keras.engine.input_layer.InputLayer object at 0x000001EA705E9AE0>, <keras.layers.core.dense.Dense object at 0x000001EA45CABBB0>]\n"
     ]
    }
   ],
   "source": [
    "print(layers)"
   ]
  },
  {
   "cell_type": "code",
   "execution_count": 280,
   "id": "5a5aeacd",
   "metadata": {},
   "outputs": [
    {
     "name": "stdout",
     "output_type": "stream",
     "text": [
      "(500, 1)\n"
     ]
    }
   ],
   "source": [
    "predictions = [x for x in range(num_of_labels)]\n",
    "predictions = tf.Variable(predictions, dtype='float32')\n",
    "predictions = tf.expand_dims(predictions, axis = -1)\n",
    "print(predictions.shape)"
   ]
  },
  {
   "cell_type": "code",
   "execution_count": 281,
   "id": "8b1d4b0c",
   "metadata": {},
   "outputs": [],
   "source": [
    "predictions = my_model(predictions) "
   ]
  },
  {
   "cell_type": "code",
   "execution_count": 282,
   "id": "d43615bc",
   "metadata": {},
   "outputs": [],
   "source": [
    "predictions = np.array(predictions)"
   ]
  },
  {
   "cell_type": "code",
   "execution_count": 283,
   "id": "86a653f7",
   "metadata": {},
   "outputs": [
    {
     "data": {
      "image/png": "[encoded data removed]",
      "text/plain": [
       "<Figure size 432x288 with 1 Axes>"
      ]
     },
     "metadata": {
      "needs_background": "light"
     },
     "output_type": "display_data"
    }
   ],
   "source": [
    "plt.plot(predictions)\n",
    "plt.plot(noisy_array)\n",
    "plt.show()"
   ]
  },
  {
   "cell_type": "code",
   "execution_count": null,
   "id": "dc7f6f32",
   "metadata": {},
   "outputs": [],
   "source": []
  }
 ],
 "metadata": {
  "kernelspec": {
   "display_name": "Python 3.10.4 ('tf2.9')",
   "language": "python",
   "name": "python3"
  },
  "language_info": {
   "codemirror_mode": {
    "name": "ipython",
    "version": 3
   },
   "file_extension": ".py",
   "mimetype": "text/x-python",
   "name": "python",
   "nbconvert_exporter": "python",
   "pygments_lexer": "ipython3",
   "version": "3.10.4"
  },
  "vscode": {
   "interpreter": {
    "hash": "fb374c58423944c16106e0450a0279ca04bf4445de983033415091f57a888256"
   }
  }
 },
 "nbformat": 4,
 "nbformat_minor": 5
}
